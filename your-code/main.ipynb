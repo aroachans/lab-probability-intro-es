{
 "cells": [
  {
   "cell_type": "markdown",
   "metadata": {},
   "source": [
    "# Probability"
   ]
  },
  {
   "cell_type": "markdown",
   "metadata": {},
   "source": [
    "## Reto 1\n",
    "Hay una caja con 10 bolas blancas, 12 bolas rojas y 8 bolas negras. Calcula la probabilidad de:\n",
    "* Sacar una bola blanca.\n",
    "* Sacar una bola blanca en la primera extracción y una bola negra en la segunda extracción sin reemplazar la primera.\n",
    "* Sacar una bola blanca en la primera extracción y una bola negra en la segunda extracción reemplazando la primera.\n",
    "* Sacar 3 bolas y que sean todas de diferentes colores."
   ]
  },
  {
   "cell_type": "code",
   "execution_count": null,
   "metadata": {},
   "outputs": [],
   "source": [
    "Blancas = 10 #las llamamos B\n",
    "Rojas = 12 #las llamamos R\n",
    "Negras = 8 # las llamamos N\n",
    "Total= 10+ 12 + 8 = 30 #le llamaremos T, de total\n",
    "a)P(B)= B/T -> 10/30 = 1/3\n",
    "b)P(B) = 1/3 y P(N|B)= 8/(30-1) = 8/29 --> (1/3) * (8/29)\n",
    "c)P(B)=10/30 y P(N)=8/30 --> (10/30)*(8/30)\n",
    "d)  Prob B, R y N\n",
    "\n",
    "P(B)=10/30=1/3\n",
    "P(R|B)=12/29\n",
    "P(N| B y R)=8/28= 2/7\n",
    "\n",
    "La probabilidad combinada es:\n",
    "\n",
    "P(combinada)=(1/3)×(12/29)×(2/27)\n",
    "\n",
    "    Prob R, B y N\n",
    "P(R)=12/30=2/5\n",
    "P(B | R)=10/29\n",
    "P(N | R y B)=8/28=2/7\n",
    "\n",
    "La probabilidad combinada es:\n",
    "\n",
    "P(combinada)=(2/5)×(10729)×(2/7)\n",
    "\n",
    "    Prob N, B y R\n",
    "\n",
    "P(N)=8/30=4/15\n",
    "P(B | N)=10/29\n",
    "P(R | N y B)=12/28=3/7\n",
    "\n",
    "La probabilidad combinada es:\n",
    "\n",
    "P(combinada)=(4/15)×(10/29)×(3/7)\n",
    "\n",
    "La probabilidad total de sacar 3 bolas de diferentes colores es la suma de las probabilidades de las tres combinaciones:\n",
    "\n",
    "P(diferentes colores)=(1/3×12/29×2/7)+(2/5×10/29×2/7)+(4/15×10/29×3/7)\n",
    "\n",
    "P(diferentes colores)=24/203\n"
   ]
  },
  {
   "cell_type": "markdown",
   "metadata": {},
   "source": [
    "## Reto 2\n",
    "\n",
    "Quieres ir de picnic el sábado. Odias la lluvia y quieres planificar tu fin de semana. Para ayudarte a tomar una decisión, recopilas los siguientes datos sobre los días lluviosos:\n",
    "\n",
    "* El 40% de todos los días están nublados.\n",
    "* Aproximadamente el 50% de los días nublados son lluviosos.\n",
    "* Aproximadamente el 20% de los días no nublados son lluviosos.\n",
    "\n",
    "¿Cuál es la probabilidad de que llueva el próximo sábado?"
   ]
  },
  {
   "cell_type": "code",
   "execution_count": 2,
   "metadata": {},
   "outputs": [
    {
     "name": "stdout",
     "output_type": "stream",
     "text": [
      "0.32\n"
     ]
    }
   ],
   "source": [
    "p_nublado = 0.4        # P(N) = 0.4\n",
    "p_lluvioso = 0.5       # P(L|N) = 0.5\n",
    "p_lluvioso_no_nublado = 0.2  # P(nN) = 0.2\n",
    "\n",
    "# Utilizando la ley de la probabilidad total\n",
    "p_lluvia = (p_lluvioso * p_nublado) + (p_lluvioso_no_nublado * (1 - p_nublado))\n",
    "print(p_lluvia)\n"
   ]
  },
  {
   "cell_type": "markdown",
   "metadata": {},
   "source": [
    "## Reto 3\n",
    "\n",
    "A y B son eventos de una probabilidad tal que \\(P(A) = 0.3\\), \\(P(B) = 0.6\\) y \\(P(A \\cap B) = 0.1\\)\n",
    "\n",
    "¿Cuáles de las siguientes afirmaciones son verdaderas?\n",
    "**SUGERENCIA: dibuja un gran diagrama de Venn a tu lado**\n",
    "* \\(P(\\overline{A}) = 0.7\\)\n",
    "* \\(P(A \\cup B) = 0.6\\)\n",
    "* \\(P(A \\cap \\overline{B}) = 0.2\\)\n",
    "* \\(P(A \\cup \\overline{A}) = 1\\)  \n",
    "* \\(P(A \\cap (B \\cup \\overline{B})) = 0.4\\)\n",
    "* \\(P(\\overline{A} \\cap \\overline{B}) = 0.3\\)\n",
    "* \\(P(\\overline{A \\cap B}) = 0.9\\)"
   ]
  },
  {
   "cell_type": "code",
   "execution_count": null,
   "metadata": {},
   "outputs": [],
   "source": [
    "P(A)=0.7:\n",
    "P(A‾)=1−P(A)=1−0.3=0.7\n",
    "Verdadero\n",
    "\n",
    "P(A∪B)=0.6\n",
    "P(A∪B)=P(A)+P(B)−P(A∩B)=0.3+0.6−0.1=0.8\n",
    "Falso\n",
    "\n",
    "P(A∩B‾)=0.2\n",
    "P(A∩B‾)=P(A)−P(A∩B)=0.3−0.1=0.2\n",
    "Verdadero\n",
    "\n",
    "P(A∪A‾)=1P(A∪A)=1:\n",
    "P(A∪A‾)=1P(A∪A)=1\n",
    "Verdadero\n",
    "\n",
    "P(A∩(B∪B‾))=0.4\n",
    "P(A∩(B∪B‾))=P(A∩S)=P(A)=0.3\n",
    "Falso\n",
    "\n",
    "P(A‾∩B‾)=0.3\n",
    "P(A‾∩B‾)=1−P(A∪B)=1−0.8=0.2\n",
    "Falso\n",
    "\n",
    "P(A∩B‾)=0.9\n",
    "P(A∩B‾)=1−P(A∩B)=1−0.1=0.9\n",
    "Verdadero"
   ]
  },
  {
   "cell_type": "markdown",
   "metadata": {},
   "source": [
    "## Reto 4\n",
    "\n",
    "* Si alguien viaja a China, la probabilidad de contraer Covid es del 1%\n",
    "* Si alguien viaja a Italia, la probabilidad de contraer Covid es del 20%\n",
    "\n",
    "Lanzo un dado con números 1, 2, 3, 4, 5, 6:\n",
    "* Si sale 1: Vuelo a Italia\n",
    "* Si no sale 1: Vuelo a China\n",
    "\n",
    "Durante mi viaje, contraje Covid. ¿Cuál es la probabilidad de que haya volado a China?"
   ]
  },
  {
   "cell_type": "code",
   "execution_count": null,
   "metadata": {},
   "outputs": [],
   "source": [
    "A: Volar a China.\n",
    "B: Contraer Covid.\n",
    "\n",
    "P(A): 5/6 (porque hay 5 opciones de 6 posibles en el dado que no son 1).\n",
    "P(B∣A): 0.01\n",
    "P(¬A): 1/6 (porque hay 1 opción de 6 posibles en el dado que es 1, es decir, volar a Italia).\n",
    "P(B∣¬A): 0.20\n",
    "\n",
    "Queremos encontrar P(A∣B), la probabilidad de que hayas volado a China dado que contrajiste Covid. \n",
    "P(A∣B)=P(B∣A)*P(A) / P(B) --> 0.01*(5/6) / P(B)\n",
    "\n",
    "P(B) = P(B∣A)*P(A) + P(B∣¬A)⋅P(¬A)--> 0.01*(5/6) + 0.20*(1/6) = 0.0083+0.0333=0.0416\n",
    "\n",
    "sustituimos en la fórmula de Bayes:\n",
    "\n",
    "P(A∣B)=((0.01)*(5/6))/0.0416\n",
    "\n",
    "Calculamos P(A∣B)P(A∣B):\n",
    "\n",
    "P(A∣B)=(0.005/0.0416)≈0.1202\n",
    "\n",
    "Convertido a porcentaje:\n",
    "\n",
    "P(A∣B)≈12.02%\n",
    "la probabilidad de que hayas volado a China dado que contrajiste Covid es aproximadamente 12.02%\n"
   ]
  },
  {
   "cell_type": "markdown",
   "metadata": {},
   "source": [
    "## BONUS\n",
    "\n",
    "Lanzas 2 dados. ¿Cuál es la probabilidad de que la suma de los números sea 7? ¿Y 8? ¿Y 9? Luego simula 10000 veces y dibuja un gráfico de conteo.\n",
    "\n",
    "tu explicación aquí"
   ]
  },
  {
   "cell_type": "code",
   "execution_count": 5,
   "metadata": {},
   "outputs": [
    {
     "ename": "SyntaxError",
     "evalue": "invalid syntax (1505814874.py, line 1)",
     "output_type": "error",
     "traceback": [
      "\u001b[0;36m  Cell \u001b[0;32mIn[5], line 1\u001b[0;36m\u001b[0m\n\u001b[0;31m    El número total de posibles resultados al lanzar dos dados es 6*6=36\u001b[0m\n\u001b[0m       ^\u001b[0m\n\u001b[0;31mSyntaxError\u001b[0m\u001b[0;31m:\u001b[0m invalid syntax\n"
     ]
    }
   ],
   "source": [
    "El número total de posibles resultados al lanzar dos dados es 6*6=36\n",
    "\n",
    "Probabilidad de suma 7:\n",
    "\n",
    "Combinaciones posibles son: (1,6), (2,5), (3,4), (4,3), (5,2), (6,1)\n",
    "\n",
    "P(suma=7)=6/36=1/6\n",
    "\n",
    "Probabilidad de suma 8:\n",
    "\n",
    "Combinaciones posibles son: (2,6), (3,5), (4,4), (5,3), (6,2)\n",
    "\n",
    "P(suma=8)=5/36\n",
    "\n",
    "Probabilidad de suma 9:\n",
    "\n",
    "Combinaciones posibles son: (3,6), (4,5), (5,4), (6,3)\n",
    "\n",
    "P(suma=9)=4/36=1/9\n",
    "\n"
   ]
  },
  {
   "cell_type": "code",
   "execution_count": 4,
   "metadata": {},
   "outputs": [
    {
     "data": {
      "image/png": "[encoded data removed]",
      "text/plain": [
       "<Figure size 640x480 with 1 Axes>"
      ]
     },
     "metadata": {},
     "output_type": "display_data"
    },
    {
     "name": "stdout",
     "output_type": "stream",
     "text": [
      "Frecuencia de suma 7: 1761\n",
      "Frecuencia de suma 8: 1405\n",
      "Frecuencia de suma 9: 1085\n"
     ]
    }
   ],
   "source": [
    "import random\n",
    "import matplotlib.pyplot as plt\n",
    "\n",
    "# Función para simular el lanzamiento de dos dados y obtener la suma\n",
    "def lanzamiento_dados():\n",
    "    dado1 = random.randint(1, 6)\n",
    "    dado2 = random.randint(1, 6)\n",
    "    return dado1 + dado2\n",
    "\n",
    "# Simular el experimento 10000 veces\n",
    "num_lanzamientos = 10000\n",
    "resultados = []\n",
    "\n",
    "for _ in range(num_lanzamientos):\n",
    "    suma_dados = lanzamiento_dados()\n",
    "    resultados.append(suma_dados)\n",
    "\n",
    "# Contar las frecuencias de cada suma\n",
    "suma_7 = resultados.count(7)\n",
    "suma_8 = resultados.count(8)\n",
    "suma_9 = resultados.count(9)\n",
    "\n",
    "# Graficar los resultados\n",
    "sumas = [7, 8, 9]\n",
    "frecuencias = [suma_7, suma_8, suma_9]\n",
    "\n",
    "plt.bar(sumas, frecuencias, color='skyblue')\n",
    "plt.xlabel('Suma de los dados')\n",
    "plt.ylabel('Frecuencia')\n",
    "plt.title('Frecuencia de sumas al lanzar dos dados (10000 simulaciones)')\n",
    "plt.xticks(sumas)\n",
    "plt.show()\n",
    "\n",
    "print(f\"Frecuencia de suma 7: {suma_7}\")\n",
    "print(f\"Frecuencia de suma 8: {suma_8}\")\n",
    "print(f\"Frecuencia de suma 9: {suma_9}\")\n"
   ]
  },
  {
   "cell_type": "code",
   "execution_count": null,
   "metadata": {},
   "outputs": [],
   "source": []
  }
 ],
 "metadata": {
  "kernelspec": {
   "display_name": "Python 3 (ipykernel)",
   "language": "python",
   "name": "python3"
  },
  "language_info": {
   "codemirror_mode": {
    "name": "ipython",
    "version": 3
   },
   "file_extension": ".py",
   "mimetype": "text/x-python",
   "name": "python",
   "nbconvert_exporter": "python",
   "pygments_lexer": "ipython3",
   "version": "3.10.12"
  },
  "toc": {
   "base_numbering": 1,
   "nav_menu": {},
   "number_sections": false,
   "sideBar": true,
   "skip_h1_title": false,
   "title_cell": "Table of Contents",
   "title_sidebar": "Contents",
   "toc_cell": false,
   "toc_position": {
    "height": "calc(100% - 180px)",
    "left": "10px",
    "top": "150px",
    "width": "296.475px"
   },
   "toc_section_display": true,
   "toc_window_display": false
  },
  "varInspector": {
   "cols": {
    "lenName": 16,
    "lenType": 16,
    "lenVar": 40
   },
   "kernels_config": {
    "python": {
     "delete_cmd_postfix": "",
     "delete_cmd_prefix": "del ",
     "library": "var_list.py",
     "varRefreshCmd": "print(var_dic_list())"
    },
    "r": {
     "delete_cmd_postfix": ") ",
     "delete_cmd_prefix": "rm(",
     "library": "var_list.r",
     "varRefreshCmd": "cat(var_dic_list()) "
    }
   },
   "types_to_exclude": [
    "module",
    "function",
    "builtin_function_or_method",
    "instance",
    "_Feature"
   ],
   "window_display": false
  }
 },
 "nbformat": 4,
 "nbformat_minor": 4
}
